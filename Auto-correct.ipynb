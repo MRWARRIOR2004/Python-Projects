{
 "cells": [
  {
   "cell_type": "code",
   "execution_count": 27,
   "id": "65e70dfe",
   "metadata": {},
   "outputs": [],
   "source": [
    "import tkinter as tk\n",
    "from autocorrect import Speller"
   ]
  },
  {
   "cell_type": "code",
   "execution_count": 32,
   "id": "f1b60f16",
   "metadata": {},
   "outputs": [],
   "source": [
    "class AutoCorrectGUI:\n",
    "    def __init__(self, root):\n",
    "        self.root = root\n",
    "        self.root.title(\"AutoCorrect\")\n",
    "        self.speller = Speller(lang='en')\n",
    "        \n",
    "        # Create a frame to hold the text entry field\n",
    "        self.entry_frame = tk.Frame(root)\n",
    "        self.entry_frame.pack()\n",
    "        self.text_entry = tk.Text(self.entry_frame, height=870, width=370)\n",
    "        self.text_entry.pack(side=tk.LEFT, fill=tk.BOTH, expand=True)\n",
    "\n",
    "        # Create a frame to hold the corrected text display field\n",
    "        self.corrected_frame = tk.Frame(root)\n",
    "        self.corrected_frame.pack()\n",
    "\n",
    "        # Create a text display field for auto-corrected text\n",
    "        self.corrected_text = tk.Text(self.corrected_frame, height=10, width=50, state='disabled')\n",
    "        self.corrected_text.pack(side=tk.LEFT, fill=tk.BOTH, expand=True)\n",
    "\n",
    "        # Bind the text change event to trigger auto-correction\n",
    "        self.text_entry.bind(\"<KeyRelease>\", self.correct_text)\n",
    "\n",
    "        # Bind the window size event to adjust the text box size\n",
    "        self.root.bind(\"<Configure>\", self.resize_text_boxes)\n",
    "\n",
    "    def correct_text(self, event=None):\n",
    "        input_text = self.text_entry.get(\"1.0\", tk.END).strip()\n",
    "\n",
    "        if not input_text:\n",
    "            self.corrected_text.config(state='normal')\n",
    "            self.corrected_text.delete(\"1.0\", tk.END)\n",
    "            self.corrected_text.config(state='disabled')\n",
    "            return\n",
    "\n",
    "        # Split the input text into individual words\n",
    "        words = input_text.split()\n",
    "\n",
    "        # Correct each word in the input text or suggest nearest words\n",
    "        corrected_words = []\n",
    "        for word in words:\n",
    "            corrected_word = self.speller(word)\n",
    "            corrected_words.append(corrected_word)\n",
    "            \n",
    "        corrected_text = ' '.join(corrected_words)\n",
    "\n",
    "    # Update the corrected text display field\n",
    "        self.corrected_text.config(state='normal')\n",
    "        self.corrected_text.delete(\"1.0\", tk.END)\n",
    "        self.corrected_text.insert(tk.END, corrected_text)\n",
    "        self.corrected_text.config(state='disabled')\n",
    "\n",
    "# Adjust the text entry and corrected text boxes based on the window size\n",
    "\n",
    "    def resize_text_boxes(self, event):\n",
    "        window_width = self.root.winfo_width()\n",
    "        window_height = self.root.winfo_height()\n",
    "        self.text_entry.config(width=int(window_width / 10), height=int(window_height / 30))\n",
    "        self.corrected_text.config(width=int(window_width / 10), height=int(window_height / 30))"
   ]
  },
  {
   "cell_type": "code",
   "execution_count": 33,
   "id": "8b7a1050",
   "metadata": {},
   "outputs": [],
   "source": [
    "if __name__ == \"__main__\":\n",
    "    root = tk.Tk()\n",
    "    app = AutoCorrectGUI(root)\n",
    "    root.mainloop()"
   ]
  },
  {
   "cell_type": "code",
   "execution_count": null,
   "id": "187334fe",
   "metadata": {},
   "outputs": [],
   "source": []
  }
 ],
 "metadata": {
  "kernelspec": {
   "display_name": "Python 3 (ipykernel)",
   "language": "python",
   "name": "python3"
  },
  "language_info": {
   "codemirror_mode": {
    "name": "ipython",
    "version": 3
   },
   "file_extension": ".py",
   "mimetype": "text/x-python",
   "name": "python",
   "nbconvert_exporter": "python",
   "pygments_lexer": "ipython3",
   "version": "3.10.9"
  }
 },
 "nbformat": 4,
 "nbformat_minor": 5
}
